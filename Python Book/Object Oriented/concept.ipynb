{
 "cells": [
  {
   "cell_type": "code",
   "execution_count": 2,
   "metadata": {},
   "outputs": [],
   "source": [
    "import math\n",
    "\n",
    "class Point:\n",
    "    def move(self, x: float, y: float) -> None:\n",
    "        self.x = x\n",
    "        self.y = y\n",
    "\n",
    "    def reset(self) -> None:\n",
    "        self.move(0, 0)\n",
    "        \n",
    "    def calculate_distance(self, other: \"Point\") -> float:\n",
    "        return math.hypot(self.x - other.x, self.y - other.y)"
   ]
  },
  {
   "cell_type": "code",
   "execution_count": 7,
   "metadata": {},
   "outputs": [
    {
     "name": "stdout",
     "output_type": "stream",
     "text": [
      "5.0\n",
      "4.47213595499958\n",
      "0.0\n"
     ]
    }
   ],
   "source": [
    "point1 = Point()\n",
    "point2 = Point()\n",
    "point1.reset()\n",
    "point2.move(5, 0)\n",
    "print(point2.calculate_distance(point1))\n",
    "\n",
    "assert point2.calculate_distance(point1) == point1.calculate_distance(point2)\n",
    "point1.move(3, 4)\n",
    "print(point1.calculate_distance(point2))\n",
    "\n",
    "print(point1.calculate_distance(point1))"
   ]
  }
 ],
 "metadata": {
  "interpreter": {
   "hash": "b3ba2566441a7c06988d0923437866b63cedc61552a5af99d1f4fb67d367b25f"
  },
  "kernelspec": {
   "display_name": "Python 3.8.11 64-bit ('base': conda)",
   "language": "python",
   "name": "python3"
  },
  "language_info": {
   "codemirror_mode": {
    "name": "ipython",
    "version": 3
   },
   "file_extension": ".py",
   "mimetype": "text/x-python",
   "name": "python",
   "nbconvert_exporter": "python",
   "pygments_lexer": "ipython3",
   "version": "3.8.11"
  },
  "orig_nbformat": 4
 },
 "nbformat": 4,
 "nbformat_minor": 2
}
